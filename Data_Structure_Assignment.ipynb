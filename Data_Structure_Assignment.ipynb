{
 "cells": [
  {
   "cell_type": "code",
   "execution_count": 14,
   "metadata": {},
   "outputs": [
    {
     "name": "stdout",
     "output_type": "stream",
     "text": [
      "This is\n",
      "s is my Assignment\n",
      "This is my Assignm\n",
      "ent\n",
      "A\n"
     ]
    }
   ],
   "source": [
    "#Quesction 1 : Discuss String Slicing and provide Example\n",
    "#Answer 1: String slicing is the process of obtaining sub-string from a given string. \n",
    "#          For detail description consider my pdf file attached in the drive section of the Assignment\n",
    "\n",
    "string1 = \"This is my Assignment\"\n",
    "print(string1[0:7]) #[a, b] >> it will give result till b-1 index\n",
    "\n",
    "print(string1[3:]) #from index 3 till end of the string\n",
    "\n",
    "print(string1[:-3]) #except the last three character\n",
    "\n",
    "print(string1[-3:]) #only last characters\n",
    "\n",
    "a = \"Assignment\"\n",
    "print(a[0]) #It will print 0th index character of string a"
   ]
  },
  {
   "cell_type": "code",
   "execution_count": 11,
   "metadata": {},
   "outputs": [],
   "source": [
    "#Quesction 2: Explain the key features of lists in Python.\n",
    "# consider my pdf file attached in the drive section of the Assignment."
   ]
  },
  {
   "cell_type": "code",
   "execution_count": 16,
   "metadata": {},
   "outputs": [
    {
     "name": "stdout",
     "output_type": "stream",
     "text": [
      "Assignment\n",
      "[10, 'Yash Rathore', 'Assignment', 'Temp']\n",
      "[10, 'Yash Rathore', 'Assignment']\n",
      "[10, 'Assignment']\n",
      "[]\n"
     ]
    }
   ],
   "source": [
    "#Quesction 3:  Describe how to access, modify, and delete elements in a list with examples.\n",
    "#Answer\n",
    "mylist = [10, 20, \"Assignment\", \"Temp\"]\n",
    "#Access >> With the help of index\n",
    "print(mylist[2]) #element on 2nd index will be printed\n",
    "#Modify\n",
    "mylist[1] = \"Yash Rathore\"\n",
    "print(mylist)\n",
    "#delete\n",
    "mylist.pop() #delete the last element of the list\n",
    "print(mylist)\n",
    "\n",
    "mylist.pop(1) #delete element on specific index in a list\n",
    "print(mylist)\n",
    "\n",
    "mylist.clear() #deletes all elements in a list\n",
    "print(mylist)\n",
    "\n"
   ]
  },
  {
   "cell_type": "code",
   "execution_count": 17,
   "metadata": {},
   "outputs": [],
   "source": [
    "#Quesction 4: Compare and contrast tuples and lists wth examples.\n",
    "#Answer 4: Consider my pdf file attached in the drive section of the Assignment"
   ]
  },
  {
   "cell_type": "code",
   "execution_count": 28,
   "metadata": {},
   "outputs": [
    {
     "name": "stdout",
     "output_type": "stream",
     "text": [
      "{1, 2, 'Yash', 'ABC'}\n",
      "{1, 2, 100, 'ABC', 'Yash'}\n",
      "{2, 100, 'ABC', 'Yash'}\n",
      "{2, 100, 'ABC', 'Yash', 'H', 'S', 'A', 'Y'}\n",
      "{2, 100, 'ABC', 'Yash', 'H', 'Rathore', 'S', 'A', 'Y'}\n",
      "{'coding'}\n",
      "{'hiking', 'photography', 'travelling', 'reading', 'coding'}\n"
     ]
    }
   ],
   "source": [
    "#Quesction 5: Describe the key features of sets and provide examples of their use.\n",
    "#Answer 5: Key Features of Sets >> consider my pdf file attached in the drive section of the Assignment\n",
    "#Examples\n",
    "temp = {1, 2, 1, 2, 2, \"Yash\", \"Yash\", \"ABC\", \"ABC\", \"ABC\"}\n",
    "print(temp)\n",
    "#set is mutable\n",
    "temp.add(100) #Adds elements in set\n",
    "print(temp)\n",
    "temp.remove(1) #removes elements from set\n",
    "print(temp)\n",
    "temp.update(\"YASH\") #updates take iterable\n",
    "print(temp)\n",
    "temp.update([\"Rathore\"]) #update as string\n",
    "print(temp)\n",
    "\n",
    "#Mathematical operations\n",
    "s1 = {\"hiking\", \"reading\", \"coding\"}\n",
    "s2 = {\"coding\", \"photography\", \"travelling\"}\n",
    "print(s1 & s2)\n",
    "print(s1 | s2)"
   ]
  },
  {
   "cell_type": "code",
   "execution_count": 29,
   "metadata": {},
   "outputs": [],
   "source": [
    "#Quesction 6: Discuss the use cases of tuples and sets in Python programming.\n",
    "#Answer 6: Consider my pdf file attached in the drive section of the Assignment"
   ]
  },
  {
   "cell_type": "code",
   "execution_count": 30,
   "metadata": {},
   "outputs": [
    {
     "name": "stdout",
     "output_type": "stream",
     "text": [
      "{'name': 'Yash', 'age': 21, 'occupation': 'Engineer'}\n",
      "{'name': 'Yash', 'age': 22, 'occupation': 'Engineer'}\n",
      "{'name': 'Yash', 'age': 22}\n",
      "{'name': 'Yash'}\n"
     ]
    }
   ],
   "source": [
    "#Quesction 7: Describe how to add, modify, and delete items in a dictionary with examples.\n",
    "#Answer 7:\n",
    "# Create a dictionary\n",
    "my_dict = {'name': 'Yash', 'age': 21}\n",
    "\n",
    "# Add a new key-value pair\n",
    "my_dict['occupation'] = 'Engineer'\n",
    "print(my_dict)\n",
    "\n",
    "# Modify an existing key-value pair\n",
    "my_dict['age'] = 22\n",
    "print(my_dict)\n",
    "\n",
    "# Delete a key-value pair using del\n",
    "del my_dict['occupation']\n",
    "print(my_dict)\n",
    "\n",
    "# Delete a key-value pair using pop\n",
    "age = my_dict.pop('age')\n",
    "print(my_dict)\n"
   ]
  },
  {
   "cell_type": "code",
   "execution_count": 32,
   "metadata": {},
   "outputs": [
    {
     "name": "stdout",
     "output_type": "stream",
     "text": [
      "Yash\n"
     ]
    }
   ],
   "source": [
    "#Quesction 8: Discuss the importance of dictionary keys being immutable and provide examples.\n",
    "#Answer 8:\n",
    "my_dict = {\"name\": \"Yash\", \"age\": 25}\n",
    "print(my_dict[\"name\"]) \n",
    "#key should be immutable to maintain integrity and reliability of dictionary\n",
    "\n",
    "#  Consider my pdf file attached in the drive section of the Assignment for detailed answer."
   ]
  },
  {
   "cell_type": "code",
   "execution_count": null,
   "metadata": {},
   "outputs": [],
   "source": []
  }
 ],
 "metadata": {
  "kernelspec": {
   "display_name": "Python 3",
   "language": "python",
   "name": "python3"
  },
  "language_info": {
   "codemirror_mode": {
    "name": "ipython",
    "version": 3
   },
   "file_extension": ".py",
   "mimetype": "text/x-python",
   "name": "python",
   "nbconvert_exporter": "python",
   "pygments_lexer": "ipython3",
   "version": "3.12.4"
  }
 },
 "nbformat": 4,
 "nbformat_minor": 2
}

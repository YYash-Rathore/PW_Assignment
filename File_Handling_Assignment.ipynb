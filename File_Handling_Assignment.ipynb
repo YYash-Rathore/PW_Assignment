{
 "cells": [
  {
   "cell_type": "code",
   "execution_count": 17,
   "metadata": {},
   "outputs": [
    {
     "name": "stdout",
     "output_type": "stream",
     "text": [
      "File created and text written.\n"
     ]
    }
   ],
   "source": [
    "# Task 1: Create a new text file and write a few lines of text into it.\n",
    "with open('example_file.txt', 'w') as file:\n",
    "    file.write(\"This is the first line.\\n\")\n",
    "    file.write(\"This is the second line.\\n\")\n",
    "    file.write(\"This is the third line.\\n\")\n",
    "print(\"File created and text written.\")"
   ]
  },
  {
   "cell_type": "code",
   "execution_count": 18,
   "metadata": {},
   "outputs": [
    {
     "name": "stdout",
     "output_type": "stream",
     "text": [
      "File content:\n",
      " This is the first line.\n",
      "This is the second line.\n",
      "This is the third line.\n",
      "\n"
     ]
    }
   ],
   "source": [
    "# Task 2: Open and read the contents of the file you just created.\n",
    "with open('example_file.txt', 'r') as file:\n",
    "    content = file.read()\n",
    "print(\"File content:\\n\", content)"
   ]
  },
  {
   "cell_type": "code",
   "execution_count": 16,
   "metadata": {},
   "outputs": [
    {
     "name": "stdout",
     "output_type": "stream",
     "text": [
      "Additional text added.\n"
     ]
    }
   ],
   "source": [
    "# Task 3: Add additional text to the existing file without deleting the current content.\n",
    "with open('example_file.txt', 'a') as file:\n",
    "    file.write(\"This is an additional line.\\n\")\n",
    "print(\"Additional text added.\")"
   ]
  },
  {
   "cell_type": "code",
   "execution_count": 7,
   "metadata": {},
   "outputs": [
    {
     "name": "stdout",
     "output_type": "stream",
     "text": [
      "This is the first line.\n",
      "This is the second line.\n",
      "This is the third line.\n",
      "This is an additional line.\n"
     ]
    }
   ],
   "source": [
    "# Task 4: Read and print each line from the file one by one.\n",
    "with open('example_file.txt', 'r') as file:\n",
    "    lines = file.readlines()\n",
    "for line in lines:\n",
    "    print(line.strip())"
   ]
  },
  {
   "cell_type": "code",
   "execution_count": 8,
   "metadata": {},
   "outputs": [
    {
     "name": "stdout",
     "output_type": "stream",
     "text": [
      "List written to file.\n"
     ]
    }
   ],
   "source": [
    "# Task 5: Write the contents of a list to a file, with each item on a new line.\n",
    "my_list = [\"Item 1\", \"Item 2\", \"Item 3\", \"Item 4\"]\n",
    "with open('list_file.txt', 'w') as file:\n",
    "    for item in my_list:\n",
    "        file.write(f\"{item}\\n\")\n",
    "print(\"List written to file.\")\n"
   ]
  },
  {
   "cell_type": "code",
   "execution_count": 10,
   "metadata": {},
   "outputs": [
    {
     "name": "stdout",
     "output_type": "stream",
     "text": [
      "File content as list: ['Item 1', 'Item 2', 'Item 3', 'Item 4']\n"
     ]
    }
   ],
   "source": [
    "# Task 6: Read the file content into a list, where each line is an element of the list.\n",
    "with open('list_file.txt', 'r') as file:\n",
    "    list_content = file.readlines()\n",
    "list_content = [line.strip() for line in list_content]\n",
    "print(\"File content as list:\", list_content)"
   ]
  },
  {
   "cell_type": "code",
   "execution_count": 11,
   "metadata": {},
   "outputs": [
    {
     "name": "stdout",
     "output_type": "stream",
     "text": [
      "Total number of words: 20\n"
     ]
    }
   ],
   "source": [
    "# Task 7: Count the total number of words in the file.\n",
    "with open('example_file.txt', 'r') as file:\n",
    "    words = file.read().split()\n",
    "word_count = len(words)\n",
    "print(\"Total number of words:\", word_count)"
   ]
  },
  {
   "cell_type": "code",
   "execution_count": 12,
   "metadata": {},
   "outputs": [
    {
     "name": "stdout",
     "output_type": "stream",
     "text": [
      "File copied.\n"
     ]
    }
   ],
   "source": [
    "# Task 8: Copy the contents of one file to another file.\n",
    "import shutil\n",
    "shutil.copy('example_file.txt', 'copied_file.txt')\n",
    "print(\"File copied.\")"
   ]
  },
  {
   "cell_type": "code",
   "execution_count": 13,
   "metadata": {},
   "outputs": [
    {
     "name": "stdout",
     "output_type": "stream",
     "text": [
      "File exists and content read.\n"
     ]
    }
   ],
   "source": [
    "# Task 9: Check if a file exists before attempting to read it.\n",
    "import os\n",
    "file_path = 'example_file.txt'\n",
    "if os.path.exists(file_path):\n",
    "    with open(file_path, 'r') as file:\n",
    "        content = file.read()\n",
    "    print(\"File exists and content read.\")\n",
    "else:\n",
    "    print(\"File does not exist.\")"
   ]
  },
  {
   "cell_type": "code",
   "execution_count": 19,
   "metadata": {},
   "outputs": [
    {
     "name": "stdout",
     "output_type": "stream",
     "text": [
      "File deleted.\n"
     ]
    }
   ],
   "source": [
    "# Task 10: Delete a file using Python.\n",
    "import os\n",
    "file_to_delete = 'example_file.txt'\n",
    "if os.path.exists(file_to_delete):\n",
    "    os.remove(file_to_delete)\n",
    "    print(\"File deleted.\")\n",
    "else:\n",
    "    print(\"File does not exist.\")"
   ]
  }
 ],
 "metadata": {
  "kernelspec": {
   "display_name": "Python 3",
   "language": "python",
   "name": "python3"
  },
  "language_info": {
   "codemirror_mode": {
    "name": "ipython",
    "version": 3
   },
   "file_extension": ".py",
   "mimetype": "text/x-python",
   "name": "python",
   "nbconvert_exporter": "python",
   "pygments_lexer": "ipython3",
   "version": "3.12.4"
  }
 },
 "nbformat": 4,
 "nbformat_minor": 2
}

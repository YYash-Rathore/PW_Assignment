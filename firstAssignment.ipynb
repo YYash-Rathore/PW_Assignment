{
 "cells": [
  {
   "cell_type": "code",
   "execution_count": null,
   "metadata": {},
   "outputs": [],
   "source": [
    "#Quesction 1: Explain the key features of python that make it a popular choice for programming.\n",
    "#Answer: Key feature of Python are as follows:\n",
    "#        1) Easy Syntax\n",
    "#        2) Large Community Support\n",
    "#        3) Use in Robotics and ChatGPT\n",
    "#        4) Used in Scripting\n",
    "#        5) Used in Backend as well as Frontend in Software Development.\n",
    "\n",
    "#For detail description consider my PDF file attached in Drive Section of Assignment"
   ]
  },
  {
   "cell_type": "code",
   "execution_count": 2,
   "metadata": {},
   "outputs": [
    {
     "name": "stdout",
     "output_type": "stream",
     "text": [
      "Hello World\n"
     ]
    }
   ],
   "source": [
    "#Quesction 2: Describe the role of predefined keywords in Python and provide example of how they are used in a program.\n",
    "#Answer: keywords are predefined words that hold a special meaning and have specific purpose in python \n",
    "#        For Theory Part of this quesction consider my PDF file attached in Drive Section of Assignment.\n",
    "#        Example of Keywords are-\n",
    "#        True, False, print, for, while, continue, break\n",
    "print('Hello World')\n",
    "# print >> Keyword-> it holds specific meaning and functionality of printing elements on output screen."
   ]
  },
  {
   "cell_type": "code",
   "execution_count": 6,
   "metadata": {},
   "outputs": [
    {
     "name": "stdout",
     "output_type": "stream",
     "text": [
      "['temp', 2, 'abc', 'def']\n"
     ]
    }
   ],
   "source": [
    "#Quesction 3: Compare and contrast mutable and immutable objects in python with example.\n",
    "#Answer: Mutable : Objects that can be changed after their creation\n",
    "list = [1,2,\"abc\",\"def\"]\n",
    "list[0] = \"temp\"\n",
    "print(list)\n",
    "# Immutable : Objects that can not be changed after their creation\n",
    "var = \"Assignment\"\n",
    "# var[0] = \"b\" will throw error\n",
    "# For Theory Part of this quesction consider my PDF file attached in Drive Section of Assignment.\n"
   ]
  },
  {
   "cell_type": "code",
   "execution_count": 9,
   "metadata": {},
   "outputs": [
    {
     "name": "stdout",
     "output_type": "stream",
     "text": [
      "5\n",
      "4\n",
      "0\n",
      "4\n",
      "0\n",
      "1.0\n",
      "False\n",
      "True\n",
      "3\n",
      "7\n"
     ]
    }
   ],
   "source": [
    "#Quesction 4: Discuss the different types of operators in python and provide examples of how they are used.\n",
    "#Answer: (1) Assignment Operator\n",
    "a = 5\n",
    "print(a)\n",
    "#here value 5 is assigned to variable a\n",
    "#        (2) Arithmatic Operator (+,-,*,%) >> used to perform arithmatic operations\n",
    "print(2+2) \n",
    "# '+' used in addition\n",
    "print(2-2)\n",
    "# '-' used in subtraction\n",
    "print(2*2)\n",
    "# '*' used in multiplication\n",
    "print(2%2)\n",
    "# '%' used to find out remainder after devision\n",
    "print(2/2)\n",
    "# '/' used to find out quotient after devision\n",
    "#        (3) Logical Operator >> used to perform logical operations\n",
    "print(True and False) \n",
    "# it will return False\n",
    "print(True or False)\n",
    "# it will return True\n",
    "#        (4) Bitwise Operator >> used to perform operations on bit level\n",
    "print(3 & 3)\n",
    "# it will print 3\n",
    "print(3 | 4)\n",
    "# it will print 7\n",
    "\n",
    "# For Theory Part of this quesction consider my PDF file attached in Drive Section of Assignment."
   ]
  },
  {
   "cell_type": "code",
   "execution_count": 15,
   "metadata": {},
   "outputs": [
    {
     "name": "stdout",
     "output_type": "stream",
     "text": [
      "<class 'int'>\n",
      "7.0\n",
      "<class 'float'>\n",
      "9\n",
      "10\n"
     ]
    }
   ],
   "source": [
    "#Quesction 5: Explain the concept of typecasting with example.\n",
    "#Answer: Typecasting >> Conversion of Data type in order to perform some operations.\n",
    "# For Theory Part of this quesction consider my PDF file attached in Drive Section of Assignment.\n",
    "# Example:\n",
    "a = 7\n",
    "print(type(a))\n",
    "print(float(a))\n",
    "\n",
    "b = 9.2\n",
    "print(type(b))\n",
    "print(int(b))\n",
    "\n",
    "a = \"3\"\n",
    "b = 7\n",
    "print(int(a)+b)\n",
    "\n",
    "# In the above examples the datatypes are converted to another datatypes for  some operation"
   ]
  },
  {
   "cell_type": "code",
   "execution_count": 1,
   "metadata": {},
   "outputs": [
    {
     "name": "stdout",
     "output_type": "stream",
     "text": [
      "If block\n",
      "You can not Vote\n",
      "Grade B\n"
     ]
    }
   ],
   "source": [
    "#Quesction 6: How do conditional statement work in python? Illustrate with examples.\n",
    "#Answer: For Theory Part of this quesction consider my PDF file attached in Drive Section of Assignment.\n",
    "# Example: (1) if (2) else\n",
    "if True :  # if condition in if block is true then if block will execute and else block will not execute.\n",
    "    print(\"If block\")\n",
    "else :     # if condition is false then else block will execute and if block will not execute. \n",
    "    print(\"else block\")\n",
    "\n",
    "#Voting\n",
    "age = 10\n",
    "if age>18 :\n",
    "    print(\"You can vote\")\n",
    "else :\n",
    "    print(\"You can not Vote\")\n",
    "# You can not vote will execute    \n",
    "\n",
    "# (3) elif\n",
    "marks = 80 \n",
    "if marks>= 90:              #some conditions\n",
    "    print(\"Grade A\")\n",
    "elif 80 <= marks <90 :      #some conditions \n",
    "    print(\"Grade B\")\n",
    "else :\n",
    "    print(\"Grade C\")\n",
    "# This will print Grade B           \n"
   ]
  },
  {
   "cell_type": "code",
   "execution_count": 4,
   "metadata": {},
   "outputs": [
    {
     "name": "stdout",
     "output_type": "stream",
     "text": [
      "5\n",
      "6\n",
      "7\n",
      "8\n",
      "9\n",
      "abc\n",
      "def\n",
      "1\n",
      "2\n",
      "3\n"
     ]
    }
   ],
   "source": [
    "#Quesction 7: Describe different types of loops in python and their use cases in python.\n",
    "#Answer: For Theory Part of this quesction consider my PDF file attached in Drive Section of Assignment.\n",
    "#  while loop >> execute statement as long as a specific condition is met\n",
    "a = 5\n",
    "while a < 10:   # it will print 5 6 7 8 9 \n",
    "    print(a)\n",
    "    a = a + 1\n",
    "\n",
    "#  For loop >> used to iterate over a sequence\n",
    "list = [\"abc\", \"def\", 1, 2, 3] \n",
    "for i in list:  # it will iterate and print the elements of list \n",
    "    print(i)"
   ]
  },
  {
   "cell_type": "code",
   "execution_count": null,
   "metadata": {},
   "outputs": [],
   "source": []
  }
 ],
 "metadata": {
  "kernelspec": {
   "display_name": "Python 3",
   "language": "python",
   "name": "python3"
  },
  "language_info": {
   "codemirror_mode": {
    "name": "ipython",
    "version": 3
   },
   "file_extension": ".py",
   "mimetype": "text/x-python",
   "name": "python",
   "nbconvert_exporter": "python",
   "pygments_lexer": "ipython3",
   "version": "3.12.4"
  }
 },
 "nbformat": 4,
 "nbformat_minor": 2
}
